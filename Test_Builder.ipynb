{
 "cells": [
  {
   "cell_type": "code",
   "execution_count": 27,
   "metadata": {},
   "outputs": [],
   "source": [
    "#library importingg\n",
    "import random\n",
    "import pandas as pd\n",
    "import numpy as np\n",
    "from PIL import Image"
   ]
  },
  {
   "cell_type": "code",
   "execution_count": 28,
   "metadata": {},
   "outputs": [],
   "source": [
    "import os\n",
    "fileL =[]\n",
    "labels = []\n",
    "c = 0\n",
    "# Assign directory\n",
    "directory = r\".\\\\Hello_Images-20250329T015943Z-001\\Hello_Images\"\n",
    "l = [7, 4, 11, 11, 14]\n",
    "# Iterate over files in directory\n",
    "for name in os.listdir(directory):\n",
    "    # Open file\n",
    "    labels.append(l[0])\n",
    "    fileL.append(Image.open(directory+ \"\\\\\"+ name).rotate(-90))\n",
    "    c+=1\n"
   ]
  },
  {
   "cell_type": "code",
   "execution_count": 29,
   "metadata": {},
   "outputs": [],
   "source": [
    "# Import module\n",
    "# import os\n",
    "# labels = []\n",
    "\n",
    "# # Assign directory\n",
    "# directory = r\".\\archive\\asl_dataset\"\n",
    "# c = 0\n",
    "# # Iterate over files in directory\n",
    "# for name in os.listdir(directory):\n",
    "#     # Open file\n",
    "#     for img in os.listdir(directory+\"\\\\\"+name):\n",
    "#         labels.append(str(c))\n",
    "#         fileL.append(Image.open(directory+ \"\\\\\"+ name+ \"\\\\\"+img))\n",
    "#     c+=1\n"
   ]
  },
  {
   "cell_type": "code",
   "execution_count": 30,
   "metadata": {},
   "outputs": [],
   "source": [
    "restarting_file  = open(\"test.csv\", \"w\")\n",
    "restarting_file.write(\"label,\")\n",
    "i = 1\n",
    "for z in range(784):\n",
    "    if(i==784):\n",
    "        restarting_file.write(\"pixel\" + str(i))\n",
    "    else:    \n",
    "        restarting_file.write(\"pixel\" + str(i) + \",\")\n",
    "    i = i + 1\n",
    "restarting_file.write(\"\\n\")\n",
    "restarting_file.close()"
   ]
  },
  {
   "cell_type": "code",
   "execution_count": 31,
   "metadata": {},
   "outputs": [],
   "source": [
    "\n",
    "c = 0\n",
    "newfile = open(\"test.csv\",\"a\")\n",
    "for f in fileL:    \n",
    "\n",
    "    new_f = f.resize((28,28))\n",
    "    numArray = np.asarray(new_f)\n",
    "    newNumArr = []\n",
    "    if(numArray.ndim>2):\n",
    "        for i in numArray:\n",
    "            row = []\n",
    "            for j in i:\n",
    "                sum = 0\n",
    "                for k in range (len(j)-1):\n",
    "                    sum+=j[k]\n",
    "                row.append(sum//(len(j)-1))\n",
    "            newNumArr.append(row)\n",
    "        numArray = newNumArr\n",
    "    \n",
    "    d1Arr = []\n",
    "\n",
    "    for i in numArray:\n",
    "        for j in i:\n",
    "            d1Arr.append(j)\n",
    "\n",
    "    numArray = d1Arr \n",
    "\n",
    "\n",
    "    i = 1\n",
    "    newfile.write(str(labels[c])+\",\")\n",
    "    for x in d1Arr:\n",
    "        if(i==784):\n",
    "            newfile.write(str(x))\n",
    "        else:\n",
    "            newfile.write(str(x) + \",\")\n",
    "        i=i+1\n",
    "    newfile.write(\"\\n\")\n",
    "    c+=1    \n",
    "\n",
    "newfile.close()"
   ]
  }
 ],
 "metadata": {
  "kernelspec": {
   "display_name": "myenv",
   "language": "python",
   "name": "python3"
  },
  "language_info": {
   "codemirror_mode": {
    "name": "ipython",
    "version": 3
   },
   "file_extension": ".py",
   "mimetype": "text/x-python",
   "name": "python",
   "nbconvert_exporter": "python",
   "pygments_lexer": "ipython3",
   "version": "3.10.13"
  }
 },
 "nbformat": 4,
 "nbformat_minor": 2
}
