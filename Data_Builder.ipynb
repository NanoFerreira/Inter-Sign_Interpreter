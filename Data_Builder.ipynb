{
 "cells": [
  {
   "cell_type": "code",
   "execution_count": 38,
   "metadata": {},
   "outputs": [],
   "source": [
    "#library importingg\n",
    "\n",
    "import pandas as pd\n",
    "import numpy as np\n",
    "from PIL import Image"
   ]
  },
  {
   "cell_type": "code",
   "execution_count": 39,
   "metadata": {},
   "outputs": [],
   "source": [
    "\n",
    "fileL = []\n",
    "# while True:\n",
    "#     user_img = input(\"Type the image's address: \")\n",
    "#     if user_img == \"n\":\n",
    "#         break\n",
    "#     fileL.append(Image.open(user_img))\n",
    "       \n"
   ]
  },
  {
   "cell_type": "code",
   "execution_count": 40,
   "metadata": {},
   "outputs": [],
   "source": [
    "# Import module\n",
    "import os\n",
    "labels = []\n",
    "\n",
    "# Assign directory\n",
    "directory = r\".\\archive (2)\\asl_dataset\"\n",
    "c = 0\n",
    "# Iterate over files in directory\n",
    "for name in os.listdir(directory):\n",
    "    # Open file\n",
    "    for img in os.listdir(directory+\"\\\\\"+name):\n",
    "        labels.append(str(c))\n",
    "        fileL.append(Image.open(directory+ \"\\\\\"+ name+ \"\\\\\"+img))\n",
    "    c+=1\n"
   ]
  },
  {
   "cell_type": "code",
   "execution_count": 45,
   "metadata": {},
   "outputs": [],
   "source": [
    "restarting_file  = open(\"newimg.csv\", \"w\")\n",
    "restarting_file.write(\"\")\n",
    "restarting_file.close()\n"
   ]
  },
  {
   "cell_type": "code",
   "execution_count": 47,
   "metadata": {},
   "outputs": [],
   "source": [
    "labelmade = False\n",
    "c = 0\n",
    "newfile = open(\"newimg.csv\", \"a\")\n",
    "for f in fileL:    \n",
    "    new_f = f.resize((28,28))\n",
    "    numArray = np.asarray(new_f)\n",
    "    newNumArr = []\n",
    "    if(numArray.ndim>2):\n",
    "        for i in numArray:\n",
    "            row = []\n",
    "            for j in i:\n",
    "                sum = 0\n",
    "                for k in range (len(j)-1):\n",
    "                    sum+=j[k]\n",
    "                row.append(sum//(len(j)-1))\n",
    "            newNumArr.append(row)\n",
    "        numArray = newNumArr\n",
    "    \n",
    "    d1Arr = []\n",
    "\n",
    "    for i in numArray:\n",
    "        for j in i:\n",
    "            d1Arr.append(j)\n",
    "\n",
    "    numArray = d1Arr \n",
    "\n",
    "\n",
    "    i = 1\n",
    "    if not labelmade:\n",
    "        newfile.write(\"label,\")\n",
    "        for z in d1Arr:\n",
    "            if(i==784):\n",
    "                newfile.write(\"pixel\" + str(i))\n",
    "            else:    \n",
    "                newfile.write(\"pixel\" + str(i) + \",\")\n",
    "            i = i + 1\n",
    "        newfile.write(\"\\n\")\n",
    "        labelmade = True      \n",
    "    i = 0 \n",
    "    newfile.write(labels[c]+\",\")\n",
    "    for x in d1Arr:\n",
    "        if(i==784):\n",
    "            newfile.write(str(x))\n",
    "        else:\n",
    "            newfile.write(str(x) + \",\")\n",
    "        i=i+1\n",
    "    newfile.write(\"\\n\")\n",
    "    c+=1    \n",
    "\n",
    "newfile.close()"
   ]
  }
 ],
 "metadata": {
  "kernelspec": {
   "display_name": "base",
   "language": "python",
   "name": "python3"
  },
  "language_info": {
   "codemirror_mode": {
    "name": "ipython",
    "version": 3
   },
   "file_extension": ".py",
   "mimetype": "text/x-python",
   "name": "python",
   "nbconvert_exporter": "python",
   "pygments_lexer": "ipython3",
   "version": "3.12.7"
  }
 },
 "nbformat": 4,
 "nbformat_minor": 2
}
